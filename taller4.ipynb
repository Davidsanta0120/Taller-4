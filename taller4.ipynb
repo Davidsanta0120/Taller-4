{
 "cells": [
  {
   "cell_type": "markdown",
   "metadata": {},
   "source": [
    "1. Calculo de probabilidad.\n",
    "\n",
    "Punto 1"
   ]
  },
  {
   "cell_type": "code",
   "execution_count": 1,
   "metadata": {},
   "outputs": [],
   "source": [
    "import matplotlib.pyplot as plt\n",
    "import numpy as np\n",
    "import sympy as sp"
   ]
  },
  {
   "cell_type": "code",
   "execution_count": 2,
   "metadata": {},
   "outputs": [],
   "source": [
    "\n",
    "def punto1(indi_el):\n",
    "    \n",
    "    N = 100000\n",
    "    cumplio = 0\n",
    "    ori = np.array([1, 2, 3, 4])\n",
    "    total = np.tile(ori, 13)\n",
    "    cartascc = np.delete(total, indi_el)\n",
    "    cant=5-len(indi_el)\n",
    "    for i in range(N):\n",
    "        cartas=np.copy(cartascc)\n",
    "        np.random.shuffle(cartas)\n",
    "        cartas_tomo = cartas[:cant] \n",
    "        \n",
    "        num_esp = 0\n",
    "        for carta in cartas_tomo:\n",
    "            if carta%3 ==0:\n",
    "                # Es un rey\n",
    "                num_esp +=1 \n",
    "\n",
    "        if num_esp==cant:\n",
    "            cumplio +=1\n",
    "    prob=cumplio/N*100\n",
    "    return prob\n"
   ]
  },
  {
   "cell_type": "code",
   "execution_count": 3,
   "metadata": {},
   "outputs": [
    {
     "name": "stdout",
     "output_type": "stream",
     "text": [
      "0.853\n",
      "3.8580000000000005\n",
      "18.84\n"
     ]
    }
   ],
   "source": [
    "a=punto1([2,6])\n",
    "print(a)\n",
    "\n",
    "b=punto1([2,6,10])\n",
    "print(b)\n",
    "\n",
    "c=punto1([2,6,10,14])\n",
    "print(c)"
   ]
  },
  {
   "cell_type": "markdown",
   "metadata": {},
   "source": [
    "Punto 2\n",
    "\n",
    "P(C)=P(C/V)P(E)+P(C/nV)P(E)\n",
    "\n",
    "P(C)=0.2x0.6+0.9x0.6=0.66 \n",
    "\n",
    "p(C)=66%"
   ]
  },
  {
   "cell_type": "markdown",
   "metadata": {},
   "source": [
    "2. Distribuciones de probabilidad discretas\n"
   ]
  },
  {
   "cell_type": "code",
   "execution_count": 4,
   "metadata": {},
   "outputs": [],
   "source": [
    "def punto1_2(N):\n",
    "    x1=np.arange(0,N+1)\n",
    "    n=N\n",
    "    p=1/5\n",
    "    f= lambda N: np.math.factorial(n)/(np.math.factorial(n-x)*np.math.factorial(x))*p**x*(1-p)**(1-x)\n",
    "    P=np.zeros(N+1)\n",
    "    for i in x1:\n",
    "        P[i]=f(i)\n",
    "    plt.scatter(x1,P)\n",
    "    plt.show()"
   ]
  },
  {
   "cell_type": "code",
   "execution_count": 5,
   "metadata": {},
   "outputs": [
    {
     "ename": "NameError",
     "evalue": "name 'x' is not defined",
     "output_type": "error",
     "traceback": [
      "\u001b[1;31m---------------------------------------------------------------------------\u001b[0m",
      "\u001b[1;31mNameError\u001b[0m                                 Traceback (most recent call last)",
      "\u001b[1;32mc:\\Users\\joli1\\OneDrive\\Escritorio\\Metodos computacionales\\Taller 4\\Taller-4\\taller4.ipynb Celda 8\u001b[0m line \u001b[0;36m1\n\u001b[1;32m----> <a href='vscode-notebook-cell:/c%3A/Users/joli1/OneDrive/Escritorio/Metodos%20computacionales/Taller%204/Taller-4/taller4.ipynb#X10sZmlsZQ%3D%3D?line=0'>1</a>\u001b[0m punto1_2(\u001b[39m5\u001b[39;49m)\n\u001b[0;32m      <a href='vscode-notebook-cell:/c%3A/Users/joli1/OneDrive/Escritorio/Metodos%20computacionales/Taller%204/Taller-4/taller4.ipynb#X10sZmlsZQ%3D%3D?line=1'>2</a>\u001b[0m punto1_2(\u001b[39m25\u001b[39m)\n",
      "\u001b[1;32mc:\\Users\\joli1\\OneDrive\\Escritorio\\Metodos computacionales\\Taller 4\\Taller-4\\taller4.ipynb Celda 8\u001b[0m line \u001b[0;36m8\n\u001b[0;32m      <a href='vscode-notebook-cell:/c%3A/Users/joli1/OneDrive/Escritorio/Metodos%20computacionales/Taller%204/Taller-4/taller4.ipynb#X10sZmlsZQ%3D%3D?line=5'>6</a>\u001b[0m P\u001b[39m=\u001b[39mnp\u001b[39m.\u001b[39mzeros(N\u001b[39m+\u001b[39m\u001b[39m1\u001b[39m)\n\u001b[0;32m      <a href='vscode-notebook-cell:/c%3A/Users/joli1/OneDrive/Escritorio/Metodos%20computacionales/Taller%204/Taller-4/taller4.ipynb#X10sZmlsZQ%3D%3D?line=6'>7</a>\u001b[0m \u001b[39mfor\u001b[39;00m i \u001b[39min\u001b[39;00m x1:\n\u001b[1;32m----> <a href='vscode-notebook-cell:/c%3A/Users/joli1/OneDrive/Escritorio/Metodos%20computacionales/Taller%204/Taller-4/taller4.ipynb#X10sZmlsZQ%3D%3D?line=7'>8</a>\u001b[0m     P[i]\u001b[39m=\u001b[39mf(i)\n\u001b[0;32m      <a href='vscode-notebook-cell:/c%3A/Users/joli1/OneDrive/Escritorio/Metodos%20computacionales/Taller%204/Taller-4/taller4.ipynb#X10sZmlsZQ%3D%3D?line=8'>9</a>\u001b[0m plt\u001b[39m.\u001b[39mscatter(x1,P)\n\u001b[0;32m     <a href='vscode-notebook-cell:/c%3A/Users/joli1/OneDrive/Escritorio/Metodos%20computacionales/Taller%204/Taller-4/taller4.ipynb#X10sZmlsZQ%3D%3D?line=9'>10</a>\u001b[0m plt\u001b[39m.\u001b[39mshow()\n",
      "\u001b[1;32mc:\\Users\\joli1\\OneDrive\\Escritorio\\Metodos computacionales\\Taller 4\\Taller-4\\taller4.ipynb Celda 8\u001b[0m line \u001b[0;36m5\n\u001b[0;32m      <a href='vscode-notebook-cell:/c%3A/Users/joli1/OneDrive/Escritorio/Metodos%20computacionales/Taller%204/Taller-4/taller4.ipynb#X10sZmlsZQ%3D%3D?line=2'>3</a>\u001b[0m n\u001b[39m=\u001b[39mN\n\u001b[0;32m      <a href='vscode-notebook-cell:/c%3A/Users/joli1/OneDrive/Escritorio/Metodos%20computacionales/Taller%204/Taller-4/taller4.ipynb#X10sZmlsZQ%3D%3D?line=3'>4</a>\u001b[0m p\u001b[39m=\u001b[39m\u001b[39m1\u001b[39m\u001b[39m/\u001b[39m\u001b[39m5\u001b[39m\n\u001b[1;32m----> <a href='vscode-notebook-cell:/c%3A/Users/joli1/OneDrive/Escritorio/Metodos%20computacionales/Taller%204/Taller-4/taller4.ipynb#X10sZmlsZQ%3D%3D?line=4'>5</a>\u001b[0m f\u001b[39m=\u001b[39m \u001b[39mlambda\u001b[39;00m N: np\u001b[39m.\u001b[39mmath\u001b[39m.\u001b[39mfactorial(n)\u001b[39m/\u001b[39m(np\u001b[39m.\u001b[39mmath\u001b[39m.\u001b[39mfactorial(n\u001b[39m-\u001b[39mx)\u001b[39m*\u001b[39mnp\u001b[39m.\u001b[39mmath\u001b[39m.\u001b[39mfactorial(x))\u001b[39m*\u001b[39mp\u001b[39m*\u001b[39m\u001b[39m*\u001b[39mx\u001b[39m*\u001b[39m(\u001b[39m1\u001b[39m\u001b[39m-\u001b[39mp)\u001b[39m*\u001b[39m\u001b[39m*\u001b[39m(\u001b[39m1\u001b[39m\u001b[39m-\u001b[39mx)\n\u001b[0;32m      <a href='vscode-notebook-cell:/c%3A/Users/joli1/OneDrive/Escritorio/Metodos%20computacionales/Taller%204/Taller-4/taller4.ipynb#X10sZmlsZQ%3D%3D?line=5'>6</a>\u001b[0m P\u001b[39m=\u001b[39mnp\u001b[39m.\u001b[39mzeros(N\u001b[39m+\u001b[39m\u001b[39m1\u001b[39m)\n\u001b[0;32m      <a href='vscode-notebook-cell:/c%3A/Users/joli1/OneDrive/Escritorio/Metodos%20computacionales/Taller%204/Taller-4/taller4.ipynb#X10sZmlsZQ%3D%3D?line=6'>7</a>\u001b[0m \u001b[39mfor\u001b[39;00m i \u001b[39min\u001b[39;00m x1:\n",
      "\u001b[1;31mNameError\u001b[0m: name 'x' is not defined"
     ]
    }
   ],
   "source": [
    "punto1_2(5)\n",
    "punto1_2(25)"
   ]
  },
  {
   "cell_type": "markdown",
   "metadata": {},
   "source": [
    "3. Distribuciones de probabilidad continuas"
   ]
  },
  {
   "cell_type": "code",
   "execution_count": 17,
   "metadata": {},
   "outputs": [
    {
     "data": {
      "text/latex": [
       "$\\displaystyle 1$"
      ],
      "text/plain": [
       "1"
      ]
     },
     "execution_count": 17,
     "metadata": {},
     "output_type": "execute_result"
    }
   ],
   "source": [
    "x = sp.symbols(\"x\")\n",
    "f = (x**2)/3\n",
    "b = sp.integrate(f,(x,0,1))\n",
    "c = sp.integrate(f,(x,1,2))"
   ]
  },
  {
   "cell_type": "markdown",
   "metadata": {},
   "source": [
    "2."
   ]
  },
  {
   "cell_type": "code",
   "execution_count": null,
   "metadata": {},
   "outputs": [],
   "source": [
    "media = 78\n",
    "desv = 36\n",
    "x = 72\n",
    "desvest = np.sqrt(36)\n",
    "z = (x-media)/desvest\n",
    "P = 1-0.5*()"
   ]
  },
  {
   "cell_type": "markdown",
   "metadata": {},
   "source": [
    "4. Cadenas de Markov"
   ]
  },
  {
   "cell_type": "code",
   "execution_count": 18,
   "metadata": {},
   "outputs": [
    {
     "name": "stdout",
     "output_type": "stream",
     "text": [
      "La probabilidad de la cadena [T, G, C, T, C, A, A, A] es = 7.500000000000001e-06\n",
      "La probabilidad de la cadena [A, C, G, A, G, U, U, U] es = 1.3716864000000001e-06\n"
     ]
    }
   ],
   "source": [
    "T=np.array([[0.4,0.25,0.3,0.1],\n",
    "            [0.2,0.25,0.3,0.1],\n",
    "            [0.2,0.25,0.1,0.1],\n",
    "            [0.2,0.25,0.3,0.7]])\n",
    "\n",
    "P1=0.25*T[2][3]*T[1][2]*T[3][1]*T[1][3]*T[0][1]*T[0][0]*T[0][0]\n",
    "print(\"La probabilidad de la cadena [T, G, C, T, C, A, A, A] es =\",P1)\n",
    "E=np.array([[0.8,0,0,0.2],\n",
    "            [0.05,0.9,0.1,0.1],\n",
    "            [0.05,0.1,0.9,0],\n",
    "            [0.1,0,0,0.7]])\n",
    "\n",
    "P2=P1*E[3][3]*E[2][2]*E[1][1]*E[3][3]*E[1][1]*E[0][0]*E[0][0]*E[0][0]\n",
    "print(\"La probabilidad de la cadena [A, C, G, A, G, U, U, U] es =\",P2)"
   ]
  }
 ],
 "metadata": {
  "kernelspec": {
   "display_name": "base",
   "language": "python",
   "name": "python3"
  },
  "language_info": {
   "codemirror_mode": {
    "name": "ipython",
    "version": 3
   },
   "file_extension": ".py",
   "mimetype": "text/x-python",
   "name": "python",
   "nbconvert_exporter": "python",
   "pygments_lexer": "ipython3",
   "version": "3.11.1"
  }
 },
 "nbformat": 4,
 "nbformat_minor": 2
}
